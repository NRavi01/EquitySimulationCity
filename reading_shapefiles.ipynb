{
 "cells": [
  {
   "cell_type": "code",
   "execution_count": 1,
   "metadata": {},
   "outputs": [],
   "source": [
    "import geopandas as gpd"
   ]
  },
  {
   "cell_type": "code",
   "execution_count": 3,
   "metadata": {},
   "outputs": [
    {
     "data": {
      "text/html": [
       "<div>\n",
       "<style scoped>\n",
       "    .dataframe tbody tr th:only-of-type {\n",
       "        vertical-align: middle;\n",
       "    }\n",
       "\n",
       "    .dataframe tbody tr th {\n",
       "        vertical-align: top;\n",
       "    }\n",
       "\n",
       "    .dataframe thead th {\n",
       "        text-align: right;\n",
       "    }\n",
       "</style>\n",
       "<table border=\"1\" class=\"dataframe\">\n",
       "  <thead>\n",
       "    <tr style=\"text-align: right;\">\n",
       "      <th></th>\n",
       "      <th>FromDate</th>\n",
       "      <th>ToDate</th>\n",
       "      <th>MunicipalB</th>\n",
       "      <th>Municipa_1</th>\n",
       "      <th>CountyName</th>\n",
       "      <th>CountyNa_1</th>\n",
       "      <th>CountyNa_2</th>\n",
       "      <th>CountyNa_3</th>\n",
       "      <th>Division</th>\n",
       "      <th>TownCode</th>\n",
       "      <th>...</th>\n",
       "      <th>Changed</th>\n",
       "      <th>ChangeYear</th>\n",
       "      <th>Population</th>\n",
       "      <th>Populati_1</th>\n",
       "      <th>Populati_2</th>\n",
       "      <th>PercentGro</th>\n",
       "      <th>IntersectF</th>\n",
       "      <th>Shape_Leng</th>\n",
       "      <th>Shape_Area</th>\n",
       "      <th>geometry</th>\n",
       "    </tr>\n",
       "  </thead>\n",
       "  <tbody>\n",
       "    <tr>\n",
       "      <td>0</td>\n",
       "      <td>None</td>\n",
       "      <td>None</td>\n",
       "      <td>Matthews</td>\n",
       "      <td>MATTHEWS</td>\n",
       "      <td>MECKLENBURG</td>\n",
       "      <td>None</td>\n",
       "      <td>None</td>\n",
       "      <td>None</td>\n",
       "      <td>10</td>\n",
       "      <td>1013</td>\n",
       "      <td>...</td>\n",
       "      <td>Changed</td>\n",
       "      <td>2018</td>\n",
       "      <td>31132</td>\n",
       "      <td>2018</td>\n",
       "      <td>3934</td>\n",
       "      <td>14</td>\n",
       "      <td>BM001013</td>\n",
       "      <td>128999.384344</td>\n",
       "      <td>4.796477e+08</td>\n",
       "      <td>POLYGON ((1491295.311 520881.983, 1491581.334 ...</td>\n",
       "    </tr>\n",
       "  </tbody>\n",
       "</table>\n",
       "<p>1 rows × 26 columns</p>\n",
       "</div>"
      ],
      "text/plain": [
       "  FromDate ToDate MunicipalB Municipa_1   CountyName CountyNa_1 CountyNa_2  \\\n",
       "0     None   None   Matthews   MATTHEWS  MECKLENBURG       None       None   \n",
       "\n",
       "  CountyNa_3  Division TownCode  ...  Changed  ChangeYear  Population  \\\n",
       "0       None        10     1013  ...  Changed        2018       31132   \n",
       "\n",
       "  Populati_1  Populati_2 PercentGro IntersectF     Shape_Leng    Shape_Area  \\\n",
       "0       2018        3934         14   BM001013  128999.384344  4.796477e+08   \n",
       "\n",
       "                                            geometry  \n",
       "0  POLYGON ((1491295.311 520881.983, 1491581.334 ...  \n",
       "\n",
       "[1 rows x 26 columns]"
      ]
     },
     "execution_count": 3,
     "metadata": {},
     "output_type": "execute_result"
    }
   ],
   "source": [
    "town_boundary = gpd.read_file(\"zip://./data/Matthews Town Boundary.zip!Matthews Town Boundary\")\n",
    "town_boundary.head()"
   ]
  },
  {
   "cell_type": "code",
   "execution_count": 5,
   "metadata": {},
   "outputs": [
    {
     "name": "stderr",
     "output_type": "stream",
     "text": [
      "/opt/anaconda3/lib/python3.7/site-packages/descartes/patch.py:65: ShapelyDeprecationWarning: The array interface is deprecated and will no longer work in Shapely 2.0. Convert the '.coords' to a numpy array instead.\n",
      "  for t in polygon])\n"
     ]
    },
    {
     "data": {
      "text/plain": [
       "<matplotlib.axes._subplots.AxesSubplot at 0x7fb9f0520710>"
      ]
     },
     "execution_count": 5,
     "metadata": {},
     "output_type": "execute_result"
    },
    {
     "data": {
      "image/png": "[encoded data removed]",
      "text/plain": [
       "<Figure size 432x288 with 1 Axes>"
      ]
     },
     "metadata": {
      "needs_background": "light"
     },
     "output_type": "display_data"
    }
   ],
   "source": [
    "town_boundary.plot()"
   ]
  },
  {
   "cell_type": "code",
   "execution_count": 7,
   "metadata": {},
   "outputs": [
    {
     "data": {
      "text/plain": [
       "0    POLYGON ((1491295.311 520881.983, 1491581.334 ...\n",
       "Name: geometry, dtype: geometry"
      ]
     },
     "execution_count": 7,
     "metadata": {},
     "output_type": "execute_result"
    }
   ],
   "source": [
    "town_boundary.geometry"
   ]
  }
 ],
 "metadata": {
  "interpreter": {
   "hash": "40d3a090f54c6569ab1632332b64b2c03c39dcf918b08424e98f38b5ae0af88f"
  },
  "kernelspec": {
   "display_name": "Python 3.7.4 ('base')",
   "language": "python",
   "name": "python3"
  },
  "language_info": {
   "codemirror_mode": {
    "name": "ipython",
    "version": 3
   },
   "file_extension": ".py",
   "mimetype": "text/x-python",
   "name": "python",
   "nbconvert_exporter": "python",
   "pygments_lexer": "ipython3",
   "version": "3.7.4"
  },
  "orig_nbformat": 4
 },
 "nbformat": 4,
 "nbformat_minor": 2
}
